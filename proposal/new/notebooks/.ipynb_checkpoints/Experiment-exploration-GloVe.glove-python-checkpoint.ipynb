{
 "cells": [
  {
   "cell_type": "code",
   "execution_count": null,
   "metadata": {
    "collapsed": true
   },
   "outputs": [],
   "source": [
    "# 初始化\n",
    "\n",
    "if 'init' == phase:\n",
    "    paths['dir.modelroot'] = os.path.join(paths['dir.dataroot'], '..', 'models')\n",
    "    dname = os.path.join(paths['dir.modelroot'], 'GloVe')\n",
    "    if not os.path.isdir(dname):\n",
    "        os.mkdir(dname)\n",
    "    paths['dir.GloVe'] = dname"
   ]
  },
  {
   "cell_type": "code",
   "execution_count": null,
   "metadata": {
    "collapsed": true
   },
   "outputs": [],
   "source": [
    "# 建立【词】表示\n",
    "# ref: https://github.com/maciejkula/glove-python/blob/master/examples/example.py\n",
    "\n",
    "if 'modeling.word' == phase:\n",
    "    if 'text8' == idpart['model.source']:\n",
    "        text8fname = os.path.join(paths['dir.dataroot'], 'text8')\n",
    "        with open(text8fname, 'r') as text8f:\n",
    "            sentences = text8f.read()\n",
    "            sentences = [sentences.split()]\n",
    "    if 'text8_revision' == idpart['model.source']:\n",
    "        text8fname = os.path.join(paths['dir.dataroot'], 'text8_revision')\n",
    "        with open(text8fname, 'r') as text8f:\n",
    "            sentences = text8f.read()\n",
    "            sentences = [sentence.split() for sentence in sentences.split('\\n')]\n",
    "    if 'corpus' == idpart['model.source']:\n",
    "        # Collect sentences from raw data\n",
    "        sentences = {}\n",
    "        pathtmp = {}\n",
    "        pathtmp['root'] = os.path.join(paths['dir.dataroot'], 'trialdata')\n",
    "        for tpart in ['train', 'test']:\n",
    "            pathtmp[tpart] = os.path.join(pathtmp['root'], tpart)\n",
    "            sentences[tpart] = []\n",
    "            folderList = os.listdir(pathtmp[tpart])\n",
    "            for folder in folderList:\n",
    "                fileList = os.listdir(os.path.join(pathtmp[tpart], folder))\n",
    "                for eachf in fileList:\n",
    "                    fpathtmp = os.path.join(pathtmp[tpart], folder, eachf)\n",
    "                    with open(fpathtmp, 'r') as f:\n",
    "                        sentences[tpart].append(f.read())\n",
    "              #save sentences in file\n",
    "                sentencePath = os.path.join(pathtmp['root'], 'sentences-{}'.format(tpart))\n",
    "                with open(sentencePath, 'w') as f:\n",
    "                    for sentence in sentences[tpart]:\n",
    "                        f.write(sentence)\n",
    "                        f.write('\\n')\n",
    "\n",
    "        pathtmp = os.path.join(pathtmp['root'], 'sentences-train')\n",
    "        sentences = []\n",
    "        with open(pathtmp, 'r') as f:\n",
    "            buff = f.read()\n",
    "            sentencesBuffer = buff.split('\\n')\n",
    "            sentences = [stcbuffer.split() for stcbuffer in sentencesBuffer]\n",
    "\n",
    "    #     print('get sentences from training corpus successfully')\n",
    "    #     print('example:')\n",
    "    #     print(sentences[random.randrange(len(sentences))])\n",
    "\n",
    "    # Create corpus\n",
    "    corpus_model = glove.Corpus()\n",
    "    corpus_model.fit(sentences)\n",
    "    \n",
    "    # save corpus model\n",
    "    calander = datetime.date.today().timetuple()\n",
    "    modelpath = {}\n",
    "    modelpath['corpus'] = os.path.join(\n",
    "        paths['dir.GloVe'],\n",
    "        '{}-corpus.{}.{}{}{}'.format(idpart['tool.word'], idpart['model.source'], calander.tm_year, calander.tm_mon, calander.tm_mday)\n",
    "    )\n",
    "#     corpus_model.save(modelpath['corpus'])\n",
    "    \n",
    "    # Create GloVe\n",
    "    glove_model = glove.Glove(no_components=vecsize, random_state=19)\n",
    "    glove_model.fit(corpus_model.matrix, epochs=15, no_threads=16) #epochs=200\n",
    "    glove_model.add_dictionary(corpus_model.dictionary)\n",
    "    \n",
    "    # Save GloVe model\n",
    "    modelpath['glove'] = os.path.join(\n",
    "        paths['dir.GloVe'],\n",
    "        '{}-glove.{}.{}{}{}'.format(idpart['tool.word'], idpart['model.source'], calander.tm_year, calander.tm_mon, calander.tm_mday)\n",
    "    )\n",
    "#     glove_model.save(modelpath['glove'])\n",
    "    \n",
    "#     print(\"save model finished\")"
   ]
  }
 ],
 "metadata": {
  "kernelspec": {
   "display_name": "Python 3",
   "language": "python",
   "name": "python3"
  },
  "language_info": {
   "codemirror_mode": {
    "name": "ipython",
    "version": 3
   },
   "file_extension": ".py",
   "mimetype": "text/x-python",
   "name": "python",
   "nbconvert_exporter": "python",
   "pygments_lexer": "ipython3",
   "version": "3.6.1"
  }
 },
 "nbformat": 4,
 "nbformat_minor": 2
}
