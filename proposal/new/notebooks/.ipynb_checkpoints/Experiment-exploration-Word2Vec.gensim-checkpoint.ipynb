{
 "cells": [
  {
   "cell_type": "code",
   "execution_count": null,
   "metadata": {
    "collapsed": true
   },
   "outputs": [],
   "source": [
    "# 初始化\n",
    "\n",
    "if 'init' == phase:\n",
    "    paths['dir.modelroot'] = os.path.join(paths['dir.dataroot'], '..', 'models')\n",
    "    for modeltool in ['gensim', 'TensorFlow']:\n",
    "        for embedsource in ['text8', 'corpus']:\n",
    "            dname = os.path.join(paths['dir.modelroot'], '{}.{}'.format(modeltool, embedsource))\n",
    "            if not os.path.isdir(dname):\n",
    "                os.mkdir(dname)\n",
    "            paths['dir.{}.{}'.format(modeltool, embedsource)] = dname"
   ]
  },
  {
   "cell_type": "code",
   "execution_count": null,
   "metadata": {
    "collapsed": true
   },
   "outputs": [],
   "source": [
    "# 建立【词】表示\n",
    "\n",
    "if 'modeling.word' == phase:\n",
    "    # Collect sentences from raw data\n",
    "    sentences = {}\n",
    "    pathtmp = {}\n",
    "    pathtmp['root'] = os.path.join(paths['dir.dataroot'], 'trialdata')\n",
    "    for tpart in ['train', 'test']:\n",
    "        pathtmp[tpart] = os.path.join(pathtmp['root'], tpart)\n",
    "        sentences[tpart] = []\n",
    "        folderList = os.listdir(pathtmp[tpart])\n",
    "        for folder in folderList:\n",
    "            fileList = os.listdir(os.path.join(pathtmp[tpart], folder))\n",
    "            for eachf in fileList:\n",
    "                fpathtmp = os.path.join(pathtmp[tpart], folder, eachf)\n",
    "                with open(fpathtmp, 'r') as f:\n",
    "                    sentences[tpart].append(f.read())\n",
    "          #save sentences in file\n",
    "            sentencePath = os.path.join(pathtmp['root'], 'sentences-{}'.format(tpart))\n",
    "            with open(sentencePath, 'w') as f:\n",
    "                for sentence in sentences[tpart]:\n",
    "                    f.write(sentence)\n",
    "                    f.write('\\n')\n",
    "\n",
    "    pathtmp = os.path.join(pathtmp['root'], 'sentences-train')\n",
    "    sentences = []\n",
    "    with open(pathtmp, 'r') as f:\n",
    "        buff = f.read()\n",
    "        sentencesBuffer = buff.split('\\n')\n",
    "        sentences = [stcbuffer.split() for stcbuffer in sentencesBuffer]\n",
    "\n",
    "    print('get sentences from training corpus successfully')\n",
    "    print('example:')\n",
    "    print(sentences[random.randrange(len(sentences))])\n",
    "    \n",
    "    # Create model of word\n",
    "    model = gensim.models.word2vec.Word2Vec(iter=15, size=vecsize, sg=1, window=5, workers=12)\n",
    "    print(\"Model created.\")\n",
    "    \n",
    "    # Set trimmer\n",
    "    trimmer = lambda word, count, min_count: gensim.utils.RULE_DISCARD if word in stopwords else gensim.utils.RULE_KEEP\n",
    "    print('Trimmer set.')\n",
    "    \n",
    "    # Build vocabulary\n",
    "    model.build_vocab(sentences=sentences, trim_rule=trimmer)\n",
    "    print(\"Vocabulary creation finished.\")\n",
    "    \n",
    "    # Train model of word\n",
    "    model.train(sentences=sentences, total_examples=model.corpus_count, epochs=model.iter)\n",
    "    print('Training finished.')\n",
    "    \n",
    "    # save model\n",
    "    calander = datetime.date.today().timetuple()\n",
    "    modelpath = os.path.join(\n",
    "        paths['dir.{}.{}'.format(idpart['tool.word'], idpart['model.source'])],\n",
    "        '{}.{}.{}{}{}'.format(idpart['tool.word'], idpart['model.source'], calander.tm_year, calander.tm_mon, calander.tm_mday)\n",
    "    )\n",
    "    model.save(modelpath)\n",
    "    print(\"save model finished\")"
   ]
  }
 ],
 "metadata": {
  "kernelspec": {
   "display_name": "Python 3",
   "language": "python",
   "name": "python3"
  },
  "language_info": {
   "codemirror_mode": {
    "name": "ipython",
    "version": 3
   },
   "file_extension": ".py",
   "mimetype": "text/x-python",
   "name": "python",
   "nbconvert_exporter": "python",
   "pygments_lexer": "ipython3",
   "version": "3.6.1"
  }
 },
 "nbformat": 4,
 "nbformat_minor": 2
}
