{
 "cells": [
  {
   "cell_type": "code",
   "execution_count": null,
   "metadata": {
    "collapsed": true
   },
   "outputs": [],
   "source": [
    "# 训练前制作 ID，保存数据\n",
    "\n",
    "if 'save_before_train' == phase:\n",
    "    ID = '{}.{}.{}'.format(idpart['tool.word'], idpart['useStopwords'], idpart['classifier'])\n",
    "    record_data[ID] = {}\n",
    "    for ilabel in idpart:\n",
    "        record_data[ilabel][ID] = idpart[ilabel]\n",
    "\n",
    "    for labelpart in ['raw', 'format']:\n",
    "        for ilabel in ['train', 'evaluate', 'all']:\n",
    "            record_data['time.{}.{}'.format(labelpart, ilabel)][ID] = {} if 'raw' == labelpart else 0.0\n",
    "\n",
    "#         for timepart, timesvm in record_data['time.raw.model'][ID_SVM].items():\n",
    "#             record_data['time.raw.model'][ID][timepart] = timesvm + timev[timepart]"
   ]
  },
  {
   "cell_type": "code",
   "execution_count": null,
   "metadata": {
    "collapsed": true
   },
   "outputs": [],
   "source": [
    "# 实验后处理：显示数据\n",
    "\n",
    "if 'post-display' == phase:\n",
    "    # sum of time\n",
    "\n",
    "    for i in timeDict.keys():\n",
    "        record_data['time.raw.all'][ID][i] = sum([record_data['time.raw.{}'.format(timepart)][ID][i] for timepart in ['train', 'evaluate']])\n",
    "\n",
    "    # formation of time\n",
    "\n",
    "    for timepart in ['train', 'evaluate', 'all']:\n",
    "            record_data['time.format.{}'.format(timepart)][ID] = timeInFormat(record_data['time.raw.{}'.format(timepart)][ID])\n",
    "\n",
    "#     print(record_data)\n",
    "#     tmptime = record_data['time.raw.all'][ID]['h'] * 60 * 60 + record_data['time.raw.all'][ID]['min'] * 60 + \\\n",
    "#                 record_data['time.raw.all'][ID]['sec'] + record_data['time.raw.all'][ID]['ms'] / 1e3 + \\\n",
    "#                 record_data['time.raw.all'][ID]['us'] / 1e6 \n",
    "#     record_data['score-macro-F1'][ID] = record_data['macro-F1'][ID] / tmptime\n",
    "#     record_data['score-micro-F1'][ID] = record_data['micro-F1'][ID] / tmptime\n",
    "\n",
    "    records_df_raw = pd.DataFrame(\n",
    "        data=record_data, \n",
    "        columns=record_labels\n",
    "    )\n",
    "\n",
    "    # remove raw time\n",
    "    records_df_display = records_df_raw.drop(record_labels[-3:], axis=1)\n",
    "\n",
    "    # use reset_index(drop=True) to use integers instead of ID as the indices\n",
    "    # (data can be distinguish using each column, so ID is dispensable)\n",
    "    records_df_display = records_df_display.reset_index(drop=True)\n",
    "\n",
    "    display(records_df_display)"
   ]
  },
  {
   "cell_type": "code",
   "execution_count": null,
   "metadata": {
    "collapsed": true
   },
   "outputs": [],
   "source": [
    "# One-hot representation for labels\n",
    "# 标签独热向量化\n",
    "\n",
    "if 'one-hot-labels' == phase:\n",
    "#     csvpath_root = os.path.join(paths['dir.dataroot'], 'data_CSV')\n",
    "\n",
    "    lb = LabelBinarizer()\n",
    "    lb.fit(df['train']['class'])\n",
    "\n",
    "    df_new = {}\n",
    "    for tpart in ['train', 'test']:\n",
    "        labels = lb.transform(df[tpart]['class'])\n",
    "        labelsDf = pd.DataFrame(labels, columns=[\"class-{}\".format(i) for i in range(len(lb.classes_))])\n",
    "        df_new[tpart] = {}\n",
    "        df_new[tpart]['y'] = labelsDf\n",
    "        df_new[tpart]['x'] = df[tpart].drop('class', axis=1)\n",
    "        df_new[tpart]['all'] = df_new[tpart]['x'].join(df_new[tpart]['y'])\n",
    "        #save in CSV\n",
    "#         for subpart in ['x', 'y', 'all']:\n",
    "#             csvpath = os.path.join(csvpath_root, '{}-cleanLabels{}-{}-{}-{}.csv'.format(tpart, idpart['model.source'], idpart['tool.word'], idpart['model.word'], idpart['model.document']))\n",
    "#             df_new[tpart][subpart].to_csv(csvpath)"
   ]
  },
  {
   "cell_type": "code",
   "execution_count": null,
   "metadata": {
    "collapsed": true
   },
   "outputs": [],
   "source": [
    "# DNN train\n",
    "# 训练分类器：DNN\n",
    "if 'DNN-train' == phase: \n",
    "    COL_OUTCOME = 'class'\n",
    "    COL_FEATURE = [str(col) for col in list(df['train'].columns) if col != COL_OUTCOME]\n",
    "\n",
    "    cls2num = {cls:ind for (ind, cls) in enumerate(df['train']['class'].unique())}\n",
    "\n",
    "    def my_input_fn(dataset):\n",
    "        # Save dataset in tf format\n",
    "        feature_cols = {\n",
    "            str(col): tf.constant(\n",
    "                df[dataset][int(col)].values#[str(col)].values\n",
    "            )\n",
    "            for col in COL_FEATURE\n",
    "        }\n",
    "        labels = tf.constant([cls2num[labelname] for labelname in df[dataset][COL_OUTCOME].values])\n",
    "        # Returns the feature columns and labels in tf format\n",
    "        return feature_cols, labels\n",
    "\n",
    "    feature_columns = [tf.contrib.layers.real_valued_column(column_name=str(col)) for col in COL_FEATURE]\n",
    "    clf = tf.contrib.learn.DNNClassifier(\n",
    "        feature_columns=feature_columns, \n",
    "        hidden_units=[512], \n",
    "        n_classes=len(df['train']['class'].unique())\n",
    "    )\n",
    "\n",
    "    clf.fit(input_fn=lambda: my_input_fn('train'), steps=2000)"
   ]
  },
  {
   "cell_type": "code",
   "execution_count": null,
   "metadata": {
    "collapsed": true
   },
   "outputs": [],
   "source": [
    "# DNN evaluate\n",
    "# 评估分类器：DNN\n",
    "if 'DNN-evaluate' == phase: \n",
    "    X_tensor_test, yt = my_input_fn('test')\n",
    "    tensorPredCls = list(clf.predict(input_fn=lambda: my_input_fn('test')))\n",
    "    num2cls = {v:k for (k, v) in cls2num.items()}\n",
    "    tensorPredClsStr = [num2cls[i] for i in tensorPredCls]\n",
    "    y_test_true = df['test']['class']\n",
    "\n",
    "    record_data['accuracy'][ID] = accuracy_score(y_test_true, tensorPredClsStr)\n",
    "    record_data['macro-F1'][ID] = f1_score(y_test_true, tensorPredClsStr, average='macro')\n",
    "    record_data['micro-F1'][ID] = f1_score(y_test_true, tensorPredClsStr, average='micro')"
   ]
  }
 ],
 "metadata": {
  "kernelspec": {
   "display_name": "Python 3",
   "language": "python",
   "name": "python3"
  },
  "language_info": {
   "codemirror_mode": {
    "name": "ipython",
    "version": 3
   },
   "file_extension": ".py",
   "mimetype": "text/x-python",
   "name": "python",
   "nbconvert_exporter": "python",
   "pygments_lexer": "ipython3",
   "version": "3.6.1"
  }
 },
 "nbformat": 4,
 "nbformat_minor": 2
}
