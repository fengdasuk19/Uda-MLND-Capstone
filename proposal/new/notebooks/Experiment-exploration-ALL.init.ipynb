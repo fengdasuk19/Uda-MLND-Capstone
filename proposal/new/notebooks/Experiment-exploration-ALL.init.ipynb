{
 "cells": [
  {
   "cell_type": "code",
   "execution_count": null,
   "metadata": {
    "collapsed": true
   },
   "outputs": [],
   "source": [
    "# 导入所需模块\n",
    "\n",
    "from __future__ import absolute_import\n",
    "from __future__ import print_function\n",
    "from __future__ import division\n",
    "\n",
    "import os\n",
    "import random\n",
    "import re\n",
    "import datetime\n",
    "\n",
    "import pandas as pd\n",
    "import numpy as np\n",
    "\n",
    "from sklearn.preprocessing import LabelBinarizer\n",
    "\n",
    "from sklearn.metrics import accuracy_score\n",
    "from sklearn.metrics import f1_score\n",
    "\n",
    "import gensim\n",
    "import tensorflow as tf\n",
    "import glove\n",
    "\n",
    "from IPython.display import display\n",
    "%matplotlib inline\n",
    "\n",
    "print(\"\\nImport modules successfully\\n\")"
   ]
  },
  {
   "cell_type": "code",
   "execution_count": 2,
   "metadata": {},
   "outputs": [
    {
     "name": "stdout",
     "output_type": "stream",
     "text": [
      "Create:\n",
      "idpart:{} \n",
      " record_data:{'accuracy(%)': {}, 'model.source': {}, 'tool.word': {}, 'model.word': {}, 'model.document': {}, 'classifier': {}, 'time.raw.model': {}, 'time.raw.train': {}, 'time.raw.evaluate': {}, 'time.raw.all': {}, 'time.format.model': {}, 'time.format.train': {}, 'time.format.evaluate': {}, 'time.format.all': {}}\n",
      " record_labels:['accuracy(%)', 'model.source', 'tool.word', 'model.word', 'model.document', 'classifier', 'time.raw.model', 'time.raw.train', 'time.raw.evaluate', 'time.raw.all', 'time.format.model', 'time.format.train', 'time.format.evaluate', 'time.format.all']\n",
      "\n",
      "Data structure for recording experiment data created.\n",
      "\n"
     ]
    }
   ],
   "source": [
    "# 初始化即将用于记录数据的数据结构\n",
    "\n",
    "idpart = {}\n",
    "record_data = {}\n",
    "record_labels = ['accuracy(%)', 'macro-F1(%)', 'micro-F1(%)', 'model.source', 'tool.word', 'model.word', 'model.document', 'classifier']\n",
    "record_labels += ['time.{}.{}'.format(labelpart, ilabel) for labelpart in ['raw', 'format'] for ilabel in ['model', 'train', 'evaluate', 'all']]\n",
    "for record_label in record_labels:\n",
    "    record_data[record_label] = {}\n",
    "    \n",
    "print('Create:\\nidpart:{} \\n record_data:{}\\n record_labels:{}'.format(idpart, record_data, record_labels))\n",
    "print('\\nData structure for recording experiment data created.\\n')"
   ]
  },
  {
   "cell_type": "code",
   "execution_count": 25,
   "metadata": {
    "collapsed": true
   },
   "outputs": [],
   "source": [
    "# 由 %%capture captObj 配合 %%time 所获得的时间 captObj 中抽取所需的时间参数\n",
    "\n",
    "def getCellTime_Wall(captObj):\n",
    "    \"\"\"\n",
    "    Extract h, min, sec, ms from captObj gotton by %%capture and %%time\n",
    "    ----------------\n",
    "    Arguments: \n",
    "    \n",
    "        captObj  `IPython.utils.capture.CapturedIO`, contains string captured using magic command %%capature\n",
    "        \n",
    "    Returns:\n",
    "    \n",
    "        rectime  a dictionary, containing time extracted from captObj\n",
    "    \"\"\"\n",
    "    # Ref\n",
    "    # https://docs.python.org/3/library/re.html\n",
    "    # https://docs.python.org/3/howto/regex.html#regex-howto\n",
    "\n",
    "    m = re.search('(?<=Wall time: ).*[^\\n]', captObj.stdout)\n",
    "    mstr = m.group(0)\n",
    "    rectime = {}\n",
    "    rectime['h'] = re.search('(\\d+\\.?\\d*)(?= ?h)', mstr)\n",
    "    rectime['min'] = re.search('(\\d+\\.?\\d*)(?= ?min)', mstr)\n",
    "    rectime['sec'] = re.search('(\\d+\\.?\\d*)(?= ?s)', mstr)\n",
    "    rectime['ms'] = re.search('(\\d+\\.?\\d*)(?= ?ms)', mstr)\n",
    "    rectime['us'] = re.search('(\\d+\\.?\\d*)(?= ?us)', mstr)\n",
    "\n",
    "    for ptn in ['h', 'min', 'sec', 'ms', 'us']:\n",
    "        rectime[ptn] = 0 if rectime[ptn] is None else float(rectime[ptn].group(0))\n",
    "        \n",
    "    print(rectime)\n",
    "    print('Record time successfully.')\n",
    "    \n",
    "    return rectime"
   ]
  },
  {
   "cell_type": "code",
   "execution_count": null,
   "metadata": {
    "collapsed": true
   },
   "outputs": [],
   "source": [
    "# 文本清洗\n",
    "\n",
    "vecsize = 784\n",
    "\n",
    "paths = {}\n",
    "paths['dir.dataroot'] =  os.path.join(os.getcwd(), '..', 'data')\n",
    "paths['dir.train'] = os.path.join(paths['dir.dataroot'], 'trialdata', 'train')\n",
    "paths['dir.test'] = os.path.join(paths['dir.dataroot'], 'trialdata', 'test')\n",
    "        \n",
    "preprocessedFlag = os.path.join(paths['dir.dataroot'], 'preprocessed')\n",
    "if not os.path.isfile(preprocessedFlag):\n",
    "    for tpart in ['train', 'test']:\n",
    "        dirpath = paths['dir.{}'.format(tpart)]\n",
    "        for cls in os.listdir(dirpath):\n",
    "            clspath = os.path.join(dirpath, cls)\n",
    "            files = os.listdir(clspath)\n",
    "            for f in files:\n",
    "                fpath = os.path.join(clspath, f)\n",
    "                os.system('mv {} {}.old'.format(fpath, fpath))\n",
    "                os.system('perl {} {}.old > {}'.format(os.path.join(paths['dir.dataroot'], 'newfil.pl'), fpath, fpath))\n",
    "                os.system('rm {}.old'.format(fpath))\n",
    "    os.system('touch {}'.format(preprocessedFlag))\n",
    "                \n",
    "print(\"Clean text succefully\")\n",
    "            \n",
    "stopwordlist = []\n",
    "with open(os.path.join(paths['dir.dataroot'], 'stoplist-web.txt'), 'r') as readf:\n",
    "    stopwordlist = readf.read()\n",
    "    stopwordlist = stopwordlist.split('\\n')\n",
    "stopwords = stopwordlist\n",
    "\n",
    "print(\"Read stop word list successfully\\n\")"
   ]
  }
 ],
 "metadata": {
  "kernelspec": {
   "display_name": "Python 3",
   "language": "python",
   "name": "python3"
  },
  "language_info": {
   "codemirror_mode": {
    "name": "ipython",
    "version": 3
   },
   "file_extension": ".py",
   "mimetype": "text/x-python",
   "name": "python",
   "nbconvert_exporter": "python",
   "pygments_lexer": "ipython3",
   "version": "3.6.1"
  }
 },
 "nbformat": 4,
 "nbformat_minor": 2
}
