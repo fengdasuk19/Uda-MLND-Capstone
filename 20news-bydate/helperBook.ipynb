{
 "cells": [
  {
   "cell_type": "code",
   "execution_count": 19,
   "metadata": {},
   "outputs": [],
   "source": [
    "import os\n",
    "import csv\n",
    "\n",
    "path = {}\n",
    "path['train'] = os.path.join(os.getcwd(), '20news-bydate-train')\n",
    "path['test'] = os.path.join(os.getcwd(), '20news-bydate-test')\n",
    "\n",
    "datacsvname = 'dataExploration.csv'\n",
    "with open(datacsvname, 'w') as datacsv:\n",
    "    csv_fields = ['ID']\n",
    "    csv_fields += os.listdir(path['train'])\n",
    "    csv_writer = csv.DictWriter(datacsv, fieldnames=csv_fields)\n",
    "    csv_writer.writeheader()\n",
    "    for tpart in path:\n",
    "        rowdata = {'ID': tpart}\n",
    "        for groupName in csv_fields[1:]:\n",
    "            newsCount = len(os.listdir(os.path.join(path[tpart], groupName)))\n",
    "            rowdata[groupName] = newsCount\n",
    "        csv_writer.writerow(rowdata)"
   ]
  },
  {
   "cell_type": "code",
   "execution_count": 20,
   "metadata": {},
   "outputs": [
    {
     "data": {
      "text/html": [
       "<div>\n",
       "<table border=\"1\" class=\"dataframe\">\n",
       "  <thead>\n",
       "    <tr style=\"text-align: right;\">\n",
       "      <th></th>\n",
       "      <th>ID</th>\n",
       "      <th>sci.crypt</th>\n",
       "      <th>talk.religion.misc</th>\n",
       "      <th>soc.religion.christian</th>\n",
       "      <th>comp.sys.mac.hardware</th>\n",
       "      <th>sci.space</th>\n",
       "      <th>rec.sport.baseball</th>\n",
       "      <th>comp.windows.x</th>\n",
       "      <th>talk.politics.mideast</th>\n",
       "      <th>comp.sys.ibm.pc.hardware</th>\n",
       "      <th>...</th>\n",
       "      <th>rec.autos</th>\n",
       "      <th>rec.motorcycles</th>\n",
       "      <th>talk.politics.guns</th>\n",
       "      <th>rec.sport.hockey</th>\n",
       "      <th>talk.politics.misc</th>\n",
       "      <th>sci.electronics</th>\n",
       "      <th>comp.graphics</th>\n",
       "      <th>comp.os.ms-windows.misc</th>\n",
       "      <th>misc.forsale</th>\n",
       "      <th>sci.med</th>\n",
       "    </tr>\n",
       "  </thead>\n",
       "  <tbody>\n",
       "    <tr>\n",
       "      <th>0</th>\n",
       "      <td>test</td>\n",
       "      <td>396</td>\n",
       "      <td>251</td>\n",
       "      <td>398</td>\n",
       "      <td>385</td>\n",
       "      <td>394</td>\n",
       "      <td>397</td>\n",
       "      <td>395</td>\n",
       "      <td>376</td>\n",
       "      <td>392</td>\n",
       "      <td>...</td>\n",
       "      <td>396</td>\n",
       "      <td>398</td>\n",
       "      <td>364</td>\n",
       "      <td>399</td>\n",
       "      <td>310</td>\n",
       "      <td>393</td>\n",
       "      <td>389</td>\n",
       "      <td>394</td>\n",
       "      <td>390</td>\n",
       "      <td>396</td>\n",
       "    </tr>\n",
       "    <tr>\n",
       "      <th>1</th>\n",
       "      <td>train</td>\n",
       "      <td>595</td>\n",
       "      <td>377</td>\n",
       "      <td>599</td>\n",
       "      <td>578</td>\n",
       "      <td>593</td>\n",
       "      <td>597</td>\n",
       "      <td>593</td>\n",
       "      <td>564</td>\n",
       "      <td>590</td>\n",
       "      <td>...</td>\n",
       "      <td>594</td>\n",
       "      <td>598</td>\n",
       "      <td>546</td>\n",
       "      <td>600</td>\n",
       "      <td>465</td>\n",
       "      <td>591</td>\n",
       "      <td>584</td>\n",
       "      <td>591</td>\n",
       "      <td>585</td>\n",
       "      <td>594</td>\n",
       "    </tr>\n",
       "  </tbody>\n",
       "</table>\n",
       "<p>2 rows × 21 columns</p>\n",
       "</div>"
      ],
      "text/plain": [
       "      ID  sci.crypt  talk.religion.misc  soc.religion.christian  \\\n",
       "0   test        396                 251                     398   \n",
       "1  train        595                 377                     599   \n",
       "\n",
       "   comp.sys.mac.hardware  sci.space  rec.sport.baseball  comp.windows.x  \\\n",
       "0                    385        394                 397             395   \n",
       "1                    578        593                 597             593   \n",
       "\n",
       "   talk.politics.mideast  comp.sys.ibm.pc.hardware   ...     rec.autos  \\\n",
       "0                    376                       392   ...           396   \n",
       "1                    564                       590   ...           594   \n",
       "\n",
       "   rec.motorcycles  talk.politics.guns  rec.sport.hockey  talk.politics.misc  \\\n",
       "0              398                 364               399                 310   \n",
       "1              598                 546               600                 465   \n",
       "\n",
       "   sci.electronics  comp.graphics  comp.os.ms-windows.misc  misc.forsale  \\\n",
       "0              393            389                      394           390   \n",
       "1              591            584                      591           585   \n",
       "\n",
       "   sci.med  \n",
       "0      396  \n",
       "1      594  \n",
       "\n",
       "[2 rows x 21 columns]"
      ]
     },
     "metadata": {},
     "output_type": "display_data"
    }
   ],
   "source": [
    "import numpy as np\n",
    "import pandas as pd\n",
    "import matplotlib.pyplot as plt\n",
    "from IPython.display import display\n",
    "%matplotlib inline\n",
    "\n",
    "df = pd.read_csv(datacsvname)\n",
    "display(df)"
   ]
  },
  {
   "cell_type": "code",
   "execution_count": 22,
   "metadata": {},
   "outputs": [
    {
     "data": {
      "text/html": [
       "<div>\n",
       "<table border=\"1\" class=\"dataframe\">\n",
       "  <thead>\n",
       "    <tr style=\"text-align: right;\">\n",
       "      <th></th>\n",
       "      <th>ID</th>\n",
       "      <th>sci.crypt</th>\n",
       "      <th>talk.religion.misc</th>\n",
       "      <th>soc.religion.christian</th>\n",
       "      <th>comp.sys.mac.hardware</th>\n",
       "      <th>sci.space</th>\n",
       "      <th>rec.sport.baseball</th>\n",
       "      <th>comp.windows.x</th>\n",
       "      <th>talk.politics.mideast</th>\n",
       "      <th>comp.sys.ibm.pc.hardware</th>\n",
       "      <th>...</th>\n",
       "      <th>rec.autos</th>\n",
       "      <th>rec.motorcycles</th>\n",
       "      <th>talk.politics.guns</th>\n",
       "      <th>rec.sport.hockey</th>\n",
       "      <th>talk.politics.misc</th>\n",
       "      <th>sci.electronics</th>\n",
       "      <th>comp.graphics</th>\n",
       "      <th>comp.os.ms-windows.misc</th>\n",
       "      <th>misc.forsale</th>\n",
       "      <th>sci.med</th>\n",
       "    </tr>\n",
       "  </thead>\n",
       "  <tbody>\n",
       "    <tr>\n",
       "      <th>1</th>\n",
       "      <td>train</td>\n",
       "      <td>595</td>\n",
       "      <td>377</td>\n",
       "      <td>599</td>\n",
       "      <td>578</td>\n",
       "      <td>593</td>\n",
       "      <td>597</td>\n",
       "      <td>593</td>\n",
       "      <td>564</td>\n",
       "      <td>590</td>\n",
       "      <td>...</td>\n",
       "      <td>594</td>\n",
       "      <td>598</td>\n",
       "      <td>546</td>\n",
       "      <td>600</td>\n",
       "      <td>465</td>\n",
       "      <td>591</td>\n",
       "      <td>584</td>\n",
       "      <td>591</td>\n",
       "      <td>585</td>\n",
       "      <td>594</td>\n",
       "    </tr>\n",
       "  </tbody>\n",
       "</table>\n",
       "<p>1 rows × 21 columns</p>\n",
       "</div>"
      ],
      "text/plain": [
       "      ID  sci.crypt  talk.religion.misc  soc.religion.christian  \\\n",
       "1  train        595                 377                     599   \n",
       "\n",
       "   comp.sys.mac.hardware  sci.space  rec.sport.baseball  comp.windows.x  \\\n",
       "1                    578        593                 597             593   \n",
       "\n",
       "   talk.politics.mideast  comp.sys.ibm.pc.hardware   ...     rec.autos  \\\n",
       "1                    564                       590   ...           594   \n",
       "\n",
       "   rec.motorcycles  talk.politics.guns  rec.sport.hockey  talk.politics.misc  \\\n",
       "1              598                 546               600                 465   \n",
       "\n",
       "   sci.electronics  comp.graphics  comp.os.ms-windows.misc  misc.forsale  \\\n",
       "1              591            584                      591           585   \n",
       "\n",
       "   sci.med  \n",
       "1      594  \n",
       "\n",
       "[1 rows x 21 columns]"
      ]
     },
     "metadata": {},
     "output_type": "display_data"
    }
   ],
   "source": [
    "display(df[df['ID']=='train'])"
   ]
  },
  {
   "cell_type": "code",
   "execution_count": 51,
   "metadata": {},
   "outputs": [
    {
     "data": {
      "image/png": "[encoded data removed]",
      "text/plain": [
       "<matplotlib.figure.Figure at 0x7fca4388cbd0>"
      ]
     },
     "metadata": {},
     "output_type": "display_data"
    }
   ],
   "source": [
    "# BAD shows\n",
    "\n",
    "# Refs:\n",
    "# http://matplotlib.org/mpl_examples/pylab_examples/bar_stacked.py\n",
    "# http://matplotlib.org/api/pyplot_api.html#matplotlib.pyplot.bar\n",
    "\n",
    "N = len(df.columns)-1\n",
    "\n",
    "data_train = df[df['ID'] == 'train'].drop('ID', axis=1)\n",
    "data_test = df[df['ID'] == 'test'].drop('ID', axis=1)\n",
    "\n",
    "# print data_train.values\n",
    "\n",
    "ind = np.arange(N)    # the x locations for the groups\n",
    "width = 0.35       # the width of the bars: can also be len(x) sequence\n",
    "height = 0.35\n",
    "\n",
    "p_train = plt.bar(ind, tuple(data_train.values[0]), width, color='blue')\n",
    "p_test = plt.bar(ind, tuple(data_test.values[0]), width, color='red')\n",
    "\n",
    "plt.ylabel('Count')\n",
    "plt.title('Count by group and subgroup')\n",
    "plt.xticks(ind,  tuple(os.listdir(path['train'])))\n",
    "plt.yticks(np.arange(0, 800, 200))\n",
    "plt.legend((p_train[0], p_test[0]), ('train', 'test'))\n",
    "\n",
    "plt.show()"
   ]
  },
  {
   "cell_type": "code",
   "execution_count": 50,
   "metadata": {},
   "outputs": [
    {
     "data": {
      "image/png": "[encoded data removed]",
      "text/plain": [
       "<matplotlib.figure.Figure at 0x7fca435a11d0>"
      ]
     },
     "metadata": {},
     "output_type": "display_data"
    }
   ],
   "source": [
    "# Refs:\n",
    "# http://matplotlib.org/mpl_examples/pylab_examples/bar_stacked.py\n",
    "# http://matplotlib.org/api/pyplot_api.html#matplotlib.pyplot.barh\n",
    "\n",
    "N = len(df.columns)-1\n",
    "\n",
    "data_train = df[df['ID'] == 'train'].drop('ID', axis=1)\n",
    "data_test = df[df['ID'] == 'test'].drop('ID', axis=1)\n",
    "\n",
    "# print data_train.values\n",
    "\n",
    "ind = np.arange(N)    # the x locations for the groups\n",
    "width = 0.35       # the width of the bars: can also be len(x) sequence\n",
    "height = 0.35\n",
    "\n",
    "p_train = plt.barh(ind, tuple(data_train.values[0]), height, color='blue')\n",
    "p_test = plt.barh(ind, tuple(data_test.values[0]), height, color='red')\n",
    "\n",
    "plt.xlabel('Count')\n",
    "plt.title('Count by group and subgroup')\n",
    "plt.yticks(ind,  tuple(os.listdir(path['train'])))\n",
    "plt.xticks(np.arange(0, 800, 200))\n",
    "plt.legend((p_train[0], p_test[0]), ('train', 'test'))\n",
    "\n",
    "plt.show()"
   ]
  },
  {
   "cell_type": "code",
   "execution_count": 76,
   "metadata": {},
   "outputs": [
    {
     "data": {
      "image/png": "[encoded data removed]",
      "text/plain": [
       "<matplotlib.figure.Figure at 0x7fca42e5fe10>"
      ]
     },
     "metadata": {},
     "output_type": "display_data"
    }
   ],
   "source": [
    "# show the proportion of every category\n",
    "\n",
    "props = []\n",
    "for cate in os.listdir(path['train']):\n",
    "    prop = float(list(data_test[cate])[0])/list(data_train[cate])[0]\n",
    "    props.append(prop)\n",
    "   \n",
    "props = np.array(props)\n",
    "\n",
    "\n",
    "ind = np.arange(20)\n",
    "height = 0.35\n",
    "p_props_testVStrain = plt.barh(ind, tuple(props), height, color='green')\n",
    "\n",
    "plt.xlabel('Proportion')\n",
    "plt.title('Proportion: test/train')\n",
    "plt.yticks(ind, tuple(os.listdir(path['train'])))\n",
    "plt.xticks(np.arange(0, 1, 0.1))\n",
    "\n",
    "plt.show()"
   ]
  },
  {
   "cell_type": "code",
   "execution_count": 77,
   "metadata": {},
   "outputs": [
    {
     "name": "stdout",
     "output_type": "stream",
     "text": [
      "sum of train: 11314\n",
      "sum of test: 7532\n"
     ]
    }
   ],
   "source": [
    "print \"sum of train: {}\".format(sum([list(data_train[cate])[0] for cate in data_train.columns]))\n",
    "print \"sum of test: {}\".format(sum([list(data_test[cate])[0] for cate in data_test.columns]))"
   ]
  },
  {
   "cell_type": "code",
   "execution_count": null,
   "metadata": {
    "collapsed": true
   },
   "outputs": [],
   "source": []
  }
 ],
 "metadata": {
  "kernelspec": {
   "display_name": "Python 2",
   "language": "python",
   "name": "python2"
  },
  "language_info": {
   "codemirror_mode": {
    "name": "ipython",
    "version": 2
   },
   "file_extension": ".py",
   "mimetype": "text/x-python",
   "name": "python",
   "nbconvert_exporter": "python",
   "pygments_lexer": "ipython2",
   "version": "2.7.13"
  }
 },
 "nbformat": 4,
 "nbformat_minor": 2
}
