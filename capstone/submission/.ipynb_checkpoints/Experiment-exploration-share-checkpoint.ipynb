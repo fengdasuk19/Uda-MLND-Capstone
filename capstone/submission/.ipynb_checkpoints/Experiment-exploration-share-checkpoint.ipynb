{
 "cells": [
  {
   "cell_type": "code",
   "execution_count": null,
   "metadata": {
    "collapsed": true
   },
   "outputs": [],
   "source": [
    "# 训练前制作 ID，保存数据\n",
    "\n",
    "if 'save_before_train' == phase:\n",
    "    ID = '{}.{}.{}'.format(idpart['tool.word'], idpart['useStopwords'], idpart['classifier'])\n",
    "    record_data[ID] = {}\n",
    "    for ilabel in idpart:\n",
    "        record_data[ilabel][ID] = idpart[ilabel]\n",
    "\n",
    "    for labelpart in ['raw', 'format']:\n",
    "        for ilabel in ['train', 'evaluate', 'all']:\n",
    "            record_data['time.{}.{}'.format(labelpart, ilabel)][ID] = {} if 'raw' == labelpart else 0.0\n"
   ]
  },
  {
   "cell_type": "code",
   "execution_count": null,
   "metadata": {
    "collapsed": true
   },
   "outputs": [],
   "source": [
    "# 实验后处理：显示数据\n",
    "\n",
    "if 'post-display' == phase:\n",
    "    # sum of time\n",
    "\n",
    "    for i in timeDict.keys():\n",
    "        record_data['time.raw.all'][ID][i] = sum([record_data['time.raw.{}'.format(timepart)][ID][i] for timepart in ['train', 'evaluate']])\n",
    "\n",
    "    # formation of time\n",
    "\n",
    "    for timepart in ['train', 'evaluate', 'all']:\n",
    "            record_data['time.format.{}'.format(timepart)][ID] = timeInFormat(record_data['time.raw.{}'.format(timepart)][ID])\n",
    "\n",
    "    records_df_raw = pd.DataFrame(\n",
    "        data=record_data, \n",
    "        columns=record_labels\n",
    "    )\n",
    "\n",
    "    # remove raw time\n",
    "    records_df_display = records_df_raw.drop(record_labels[-3:], axis=1)\n",
    "\n",
    "    # use reset_index(drop=True) to use integers instead of ID as the indices\n",
    "    # (data can be distinguish using each column, so ID is dispensable)\n",
    "    records_df_display = records_df_display.reset_index(drop=True)\n",
    "\n",
    "    display(records_df_display)"
   ]
  }
 ],
 "metadata": {
  "kernelspec": {
   "display_name": "Python 3",
   "language": "python",
   "name": "python3"
  },
  "language_info": {
   "codemirror_mode": {
    "name": "ipython",
    "version": 3
   },
   "file_extension": ".py",
   "mimetype": "text/x-python",
   "name": "python",
   "nbconvert_exporter": "python",
   "pygments_lexer": "ipython3",
   "version": "3.6.1"
  }
 },
 "nbformat": 4,
 "nbformat_minor": 2
}
